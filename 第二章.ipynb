{
 "cells": [
  {
   "cell_type": "markdown",
   "metadata": {},
   "source": [
    "# 自然言語処理１００本ノック\n",
    "4/2/2021 \n",
    "第2章: UNIXコマンド \n",
    "\n",
    "目次\n",
    "\n",
    "* 10. 行数のカウント\n",
    "* 11. タブをスペースに置換\n",
    "* 12. 1列目をcol1.txtに，2列目をcol2.txtに保存\n",
    "* 13. col1.txtとcol2.txtをマージ\n",
    "* 14. 先頭からN行を出力\n",
    "* 15. 末尾のN行を出力\n",
    "* 16. ファイルをN分割する\n",
    "* 17. １列目の文字列の異なり\n",
    "* 18. 各行を3コラム目の数値の降順にソート\n",
    "* 19. 各行の1コラム目の文字列の出現頻度を求め，出現頻度の高い順に並べる"
   ]
  },
  {
   "cell_type": "markdown",
   "metadata": {},
   "source": [
    "10. 行数のカウント\n",
    "行数をカウントせよ．確認にはwcコマンドを用いよ．"
   ]
  },
  {
   "cell_type": "code",
   "execution_count": 7,
   "metadata": {},
   "outputs": [
    {
     "name": "stdout",
     "output_type": "stream",
     "text": [
      "popular-names.txt  第一章.ipynb  第二章.ipynb\n"
     ]
    }
   ],
   "source": [
    "ls"
   ]
  },
  {
   "cell_type": "code",
   "execution_count": 12,
   "metadata": {},
   "outputs": [
    {
     "data": {
      "text/plain": [
       "2780"
      ]
     },
     "execution_count": 12,
     "metadata": {},
     "output_type": "execute_result"
    }
   ],
   "source": [
    "import pandas as pd\n",
    "df = pd.read_table('popular-names.txt',header=None, sep='\t')\n",
    "len(df)"
   ]
  },
  {
   "cell_type": "markdown",
   "metadata": {},
   "source": [
    "11. タブをスペースに置換\n",
    "タブ1文字につきスペース1文字に置換せよ．確認にはsedコマンド，trコマンド，もしくはexpandコマンドを用いよ．"
   ]
  },
  {
   "cell_type": "code",
   "execution_count": 25,
   "metadata": {},
   "outputs": [],
   "source": [
    "import pandas as pd\n",
    "df = pd.read_table('popular-names.txt',header=None, sep='\t')\n",
    "df.to_csv('popular-names_space.txt',sep=' ',header=False,index=False)"
   ]
  },
  {
   "cell_type": "code",
   "execution_count": 40,
   "metadata": {},
   "outputs": [
    {
     "data": {
      "text/html": [
       "<div>\n",
       "<style scoped>\n",
       "    .dataframe tbody tr th:only-of-type {\n",
       "        vertical-align: middle;\n",
       "    }\n",
       "\n",
       "    .dataframe tbody tr th {\n",
       "        vertical-align: top;\n",
       "    }\n",
       "\n",
       "    .dataframe thead th {\n",
       "        text-align: right;\n",
       "    }\n",
       "</style>\n",
       "<table border=\"1\" class=\"dataframe\">\n",
       "  <thead>\n",
       "    <tr style=\"text-align: right;\">\n",
       "      <th></th>\n",
       "      <th>0</th>\n",
       "      <th>1</th>\n",
       "      <th>2</th>\n",
       "      <th>3</th>\n",
       "    </tr>\n",
       "  </thead>\n",
       "  <tbody>\n",
       "    <tr>\n",
       "      <th>0</th>\n",
       "      <td>Mary</td>\n",
       "      <td>F</td>\n",
       "      <td>7065</td>\n",
       "      <td>1880</td>\n",
       "    </tr>\n",
       "    <tr>\n",
       "      <th>1</th>\n",
       "      <td>Anna</td>\n",
       "      <td>F</td>\n",
       "      <td>2604</td>\n",
       "      <td>1880</td>\n",
       "    </tr>\n",
       "    <tr>\n",
       "      <th>2</th>\n",
       "      <td>Emma</td>\n",
       "      <td>F</td>\n",
       "      <td>2003</td>\n",
       "      <td>1880</td>\n",
       "    </tr>\n",
       "    <tr>\n",
       "      <th>3</th>\n",
       "      <td>Elizabeth</td>\n",
       "      <td>F</td>\n",
       "      <td>1939</td>\n",
       "      <td>1880</td>\n",
       "    </tr>\n",
       "    <tr>\n",
       "      <th>4</th>\n",
       "      <td>Minnie</td>\n",
       "      <td>F</td>\n",
       "      <td>1746</td>\n",
       "      <td>1880</td>\n",
       "    </tr>\n",
       "    <tr>\n",
       "      <th>...</th>\n",
       "      <td>...</td>\n",
       "      <td>...</td>\n",
       "      <td>...</td>\n",
       "      <td>...</td>\n",
       "    </tr>\n",
       "    <tr>\n",
       "      <th>2775</th>\n",
       "      <td>Benjamin</td>\n",
       "      <td>M</td>\n",
       "      <td>13381</td>\n",
       "      <td>2018</td>\n",
       "    </tr>\n",
       "    <tr>\n",
       "      <th>2776</th>\n",
       "      <td>Elijah</td>\n",
       "      <td>M</td>\n",
       "      <td>12886</td>\n",
       "      <td>2018</td>\n",
       "    </tr>\n",
       "    <tr>\n",
       "      <th>2777</th>\n",
       "      <td>Lucas</td>\n",
       "      <td>M</td>\n",
       "      <td>12585</td>\n",
       "      <td>2018</td>\n",
       "    </tr>\n",
       "    <tr>\n",
       "      <th>2778</th>\n",
       "      <td>Mason</td>\n",
       "      <td>M</td>\n",
       "      <td>12435</td>\n",
       "      <td>2018</td>\n",
       "    </tr>\n",
       "    <tr>\n",
       "      <th>2779</th>\n",
       "      <td>Logan</td>\n",
       "      <td>M</td>\n",
       "      <td>12352</td>\n",
       "      <td>2018</td>\n",
       "    </tr>\n",
       "  </tbody>\n",
       "</table>\n",
       "<p>2780 rows × 4 columns</p>\n",
       "</div>"
      ],
      "text/plain": [
       "              0  1      2     3\n",
       "0          Mary  F   7065  1880\n",
       "1          Anna  F   2604  1880\n",
       "2          Emma  F   2003  1880\n",
       "3     Elizabeth  F   1939  1880\n",
       "4        Minnie  F   1746  1880\n",
       "...         ... ..    ...   ...\n",
       "2775   Benjamin  M  13381  2018\n",
       "2776     Elijah  M  12886  2018\n",
       "2777      Lucas  M  12585  2018\n",
       "2778      Mason  M  12435  2018\n",
       "2779      Logan  M  12352  2018\n",
       "\n",
       "[2780 rows x 4 columns]"
      ]
     },
     "execution_count": 40,
     "metadata": {},
     "output_type": "execute_result"
    }
   ],
   "source": [
    "df"
   ]
  },
  {
   "cell_type": "markdown",
   "metadata": {},
   "source": [
    "12. 1列目をcol1.txtに，2列目をcol2.txtに保存\n",
    "各行の1列目だけを抜き出したものをcol1.txtに，2列目だけを抜き出したものをcol2.txtとしてファイルに保存せよ．確認にはcutコマンドを用いよ．"
   ]
  },
  {
   "cell_type": "code",
   "execution_count": 34,
   "metadata": {},
   "outputs": [],
   "source": [
    "df[0].to_csv('col1.txt',sep=' ',header=False,index=False)\n",
    "df[1].to_csv('col2.txt',sep=' ',header=False,index=False)"
   ]
  },
  {
   "cell_type": "code",
   "execution_count": 33,
   "metadata": {},
   "outputs": [
    {
     "name": "stdout",
     "output_type": "stream",
     "text": [
      "col1.txt  popular-names_space.txt  第一章.ipynb\n",
      "col2.txt  popular-names.txt        第二章.ipynb\n"
     ]
    }
   ],
   "source": [
    "ls"
   ]
  },
  {
   "cell_type": "markdown",
   "metadata": {},
   "source": [
    "13. col1.txtとcol2.txtをマージ\n",
    "12で作ったcol1.txtとcol2.txtを結合し，元のファイルの1列目と2列目をタブ区切りで並べたテキストファイルを作成せよ．確認にはpasteコマンドを用いよ．"
   ]
  },
  {
   "cell_type": "code",
   "execution_count": 35,
   "metadata": {},
   "outputs": [
    {
     "name": "stdout",
     "output_type": "stream",
     "text": [
      "col1.txt  popular-names_space.txt  第一章.ipynb\n",
      "col2.txt  popular-names.txt        第二章.ipynb\n"
     ]
    }
   ],
   "source": [
    "ls"
   ]
  },
  {
   "cell_type": "code",
   "execution_count": 47,
   "metadata": {},
   "outputs": [],
   "source": [
    "df1 = pd.read_table('col1.txt',header=None)\n",
    "df2 = pd.read_table('col2.txt',header=None)\n",
    "df_merge1 = pd.concat([df1, df2], axis=1)\n",
    "df_merge1.to_csv('col1_col2.txt',sep='\t',header=None,index=False)"
   ]
  },
  {
   "cell_type": "code",
   "execution_count": 44,
   "metadata": {},
   "outputs": [
    {
     "data": {
      "text/html": [
       "<div>\n",
       "<style scoped>\n",
       "    .dataframe tbody tr th:only-of-type {\n",
       "        vertical-align: middle;\n",
       "    }\n",
       "\n",
       "    .dataframe tbody tr th {\n",
       "        vertical-align: top;\n",
       "    }\n",
       "\n",
       "    .dataframe thead th {\n",
       "        text-align: right;\n",
       "    }\n",
       "</style>\n",
       "<table border=\"1\" class=\"dataframe\">\n",
       "  <thead>\n",
       "    <tr style=\"text-align: right;\">\n",
       "      <th></th>\n",
       "      <th>0</th>\n",
       "      <th>0</th>\n",
       "    </tr>\n",
       "  </thead>\n",
       "  <tbody>\n",
       "    <tr>\n",
       "      <th>0</th>\n",
       "      <td>Mary</td>\n",
       "      <td>F</td>\n",
       "    </tr>\n",
       "    <tr>\n",
       "      <th>1</th>\n",
       "      <td>Anna</td>\n",
       "      <td>F</td>\n",
       "    </tr>\n",
       "    <tr>\n",
       "      <th>2</th>\n",
       "      <td>Emma</td>\n",
       "      <td>F</td>\n",
       "    </tr>\n",
       "    <tr>\n",
       "      <th>3</th>\n",
       "      <td>Elizabeth</td>\n",
       "      <td>F</td>\n",
       "    </tr>\n",
       "    <tr>\n",
       "      <th>4</th>\n",
       "      <td>Minnie</td>\n",
       "      <td>F</td>\n",
       "    </tr>\n",
       "    <tr>\n",
       "      <th>...</th>\n",
       "      <td>...</td>\n",
       "      <td>...</td>\n",
       "    </tr>\n",
       "    <tr>\n",
       "      <th>2775</th>\n",
       "      <td>Benjamin</td>\n",
       "      <td>M</td>\n",
       "    </tr>\n",
       "    <tr>\n",
       "      <th>2776</th>\n",
       "      <td>Elijah</td>\n",
       "      <td>M</td>\n",
       "    </tr>\n",
       "    <tr>\n",
       "      <th>2777</th>\n",
       "      <td>Lucas</td>\n",
       "      <td>M</td>\n",
       "    </tr>\n",
       "    <tr>\n",
       "      <th>2778</th>\n",
       "      <td>Mason</td>\n",
       "      <td>M</td>\n",
       "    </tr>\n",
       "    <tr>\n",
       "      <th>2779</th>\n",
       "      <td>Logan</td>\n",
       "      <td>M</td>\n",
       "    </tr>\n",
       "  </tbody>\n",
       "</table>\n",
       "<p>2780 rows × 2 columns</p>\n",
       "</div>"
      ],
      "text/plain": [
       "              0  0\n",
       "0          Mary  F\n",
       "1          Anna  F\n",
       "2          Emma  F\n",
       "3     Elizabeth  F\n",
       "4        Minnie  F\n",
       "...         ... ..\n",
       "2775   Benjamin  M\n",
       "2776     Elijah  M\n",
       "2777      Lucas  M\n",
       "2778      Mason  M\n",
       "2779      Logan  M\n",
       "\n",
       "[2780 rows x 2 columns]"
      ]
     },
     "execution_count": 44,
     "metadata": {},
     "output_type": "execute_result"
    }
   ],
   "source": [
    "df_merge1"
   ]
  },
  {
   "cell_type": "markdown",
   "metadata": {},
   "source": [
    "14. 先頭からN行を出力\n",
    "自然数Nをコマンドライン引数などの手段で受け取り，入力のうち先頭のN行だけを表示せよ．確認にはheadコマンドを用いよ．"
   ]
  },
  {
   "cell_type": "code",
   "execution_count": 50,
   "metadata": {},
   "outputs": [
    {
     "name": "stdout",
     "output_type": "stream",
     "text": [
      "           0  1     2     3\n",
      "0       Mary  F  7065  1880\n",
      "1       Anna  F  2604  1880\n",
      "2       Emma  F  2003  1880\n",
      "3  Elizabeth  F  1939  1880\n",
      "4     Minnie  F  1746  1880\n",
      "5   Margaret  F  1578  1880\n",
      "6        Ida  F  1472  1880\n",
      "7      Alice  F  1414  1880\n",
      "8     Bertha  F  1320  1880\n",
      "9      Sarah  F  1288  1880\n"
     ]
    }
   ],
   "source": [
    "N = 10\n",
    "print(df.head(N))"
   ]
  },
  {
   "cell_type": "markdown",
   "metadata": {},
   "source": [
    "\n",
    "15. 末尾のN行を出力\n",
    "自然数Nをコマンドライン引数などの手段で受け取り，入力のうち末尾のN行だけを表示せよ．確認にはtailコマンドを用いよ．\n"
   ]
  },
  {
   "cell_type": "code",
   "execution_count": 51,
   "metadata": {},
   "outputs": [
    {
     "name": "stdout",
     "output_type": "stream",
     "text": [
      "             0  1      2     3\n",
      "2770      Liam  M  19837  2018\n",
      "2771      Noah  M  18267  2018\n",
      "2772   William  M  14516  2018\n",
      "2773     James  M  13525  2018\n",
      "2774    Oliver  M  13389  2018\n",
      "2775  Benjamin  M  13381  2018\n",
      "2776    Elijah  M  12886  2018\n",
      "2777     Lucas  M  12585  2018\n",
      "2778     Mason  M  12435  2018\n",
      "2779     Logan  M  12352  2018\n"
     ]
    }
   ],
   "source": [
    "N = 10 \n",
    "print(df.tail(N))"
   ]
  },
  {
   "cell_type": "markdown",
   "metadata": {},
   "source": [
    "16. ファイルをN分割する\n",
    "自然数Nをコマンドライン引数などの手段で受け取り，入力のファイルを行単位でN分割せよ．同様の処理をsplitコマンドで実現せよ．\n"
   ]
  },
  {
   "cell_type": "code",
   "execution_count": 63,
   "metadata": {},
   "outputs": [],
   "source": [
    "N = 3\n",
    "step = (len(df) // 3)\n",
    "for n in range(N):\n",
    "    df_split = df.iloc[n*step:(n+1)*step]\n",
    "    df_split.to_csv('popular-names'+str(n)+'.txt', sep=' ',header=False, index=False)"
   ]
  },
  {
   "cell_type": "code",
   "execution_count": 64,
   "metadata": {},
   "outputs": [
    {
     "name": "stdout",
     "output_type": "stream",
     "text": [
      "col1_col2.txt  popular-names0.txt  popular-names_space.txt  第二章.ipynb\n",
      "col1.txt       popular-names1.txt  popular-names.txt\n",
      "col2.txt       popular-names2.txt  第一章.ipynb\n"
     ]
    }
   ],
   "source": [
    "ls"
   ]
  },
  {
   "cell_type": "markdown",
   "metadata": {},
   "source": [
    "\n",
    "17. １列目の文字列の異なり\n",
    "1列目の文字列の種類（異なる文字列の集合）を求めよ．確認にはcut, sort, uniqコマンドを用いよ．"
   ]
  },
  {
   "cell_type": "code",
   "execution_count": 69,
   "metadata": {},
   "outputs": [
    {
     "name": "stdout",
     "output_type": "stream",
     "text": [
      "['Abigail' 'Aiden' 'Alexander' 'Alexis' 'Alice' 'Amanda' 'Amelia' 'Amy'\n",
      " 'Andrew' 'Angela' 'Anna' 'Annie' 'Anthony' 'Ashley' 'Austin' 'Ava'\n",
      " 'Barbara' 'Benjamin' 'Bertha' 'Bessie' 'Betty' 'Brandon' 'Brian'\n",
      " 'Brittany' 'Carol' 'Carolyn' 'Charles' 'Charlotte' 'Chloe' 'Christopher'\n",
      " 'Clara' 'Crystal' 'Cynthia' 'Daniel' 'David' 'Deborah' 'Debra' 'Donald'\n",
      " 'Donna' 'Doris' 'Dorothy' 'Edward' 'Elijah' 'Elizabeth' 'Emily' 'Emma'\n",
      " 'Ethan' 'Ethel' 'Evelyn' 'Florence' 'Frances' 'Frank' 'Gary' 'George'\n",
      " 'Hannah' 'Harper' 'Harry' 'Heather' 'Helen' 'Henry' 'Ida' 'Isabella'\n",
      " 'Jacob' 'James' 'Jason' 'Jayden' 'Jeffrey' 'Jennifer' 'Jessica' 'Joan'\n",
      " 'John' 'Joseph' 'Joshua' 'Judith' 'Julie' 'Justin' 'Karen' 'Kathleen'\n",
      " 'Kelly' 'Kimberly' 'Larry' 'Laura' 'Lauren' 'Liam' 'Lillian' 'Linda'\n",
      " 'Lisa' 'Logan' 'Lori' 'Lucas' 'Madison' 'Margaret' 'Marie' 'Mark' 'Mary'\n",
      " 'Mason' 'Matthew' 'Megan' 'Melissa' 'Mia' 'Michael' 'Michelle' 'Mildred'\n",
      " 'Minnie' 'Nancy' 'Nicholas' 'Nicole' 'Noah' 'Oliver' 'Olivia' 'Pamela'\n",
      " 'Patricia' 'Rachel' 'Rebecca' 'Richard' 'Robert' 'Ronald' 'Ruth'\n",
      " 'Samantha' 'Sandra' 'Sarah' 'Scott' 'Sharon' 'Shirley' 'Sophia'\n",
      " 'Stephanie' 'Steven' 'Susan' 'Tammy' 'Taylor' 'Thomas' 'Tracy' 'Tyler'\n",
      " 'Virginia' 'Walter' 'William']\n"
     ]
    }
   ],
   "source": [
    "name = df[0].unique()\n",
    "name.sort()\n",
    "print(name)"
   ]
  },
  {
   "cell_type": "markdown",
   "metadata": {},
   "source": [
    "18. 各行を3コラム目の数値の降順にソート\n",
    "各行を3コラム目の数値の逆順で整列せよ（注意: 各行の内容は変更せずに並び替えよ）．確認にはsortコマンドを用いよ（この問題はコマンドで実行した時の結果と合わなくてもよい）．"
   ]
  },
  {
   "cell_type": "code",
   "execution_count": 75,
   "metadata": {},
   "outputs": [
    {
     "name": "stdout",
     "output_type": "stream",
     "text": [
      "            0  1      2     3\n",
      "1340    Linda  F  99689  1947\n",
      "1360    Linda  F  96211  1948\n",
      "1350    James  M  94757  1947\n",
      "1550  Michael  M  92704  1957\n",
      "1351   Robert  M  91640  1947\n",
      "...       ... ..    ...   ...\n",
      "27      Annie  F   1326  1881\n",
      "28     Bertha  F   1324  1881\n",
      "8      Bertha  F   1320  1880\n",
      "29      Alice  F   1308  1881\n",
      "9       Sarah  F   1288  1880\n",
      "\n",
      "[2780 rows x 4 columns]\n"
     ]
    }
   ],
   "source": [
    "num = df.sort_values(by=2,ascending=False)\n",
    "print (num)"
   ]
  },
  {
   "cell_type": "markdown",
   "metadata": {},
   "source": [
    "\n",
    "19. 各行の1コラム目の文字列の出現頻度を求め，出現頻度の高い順に並べる\n",
    "各行の1列目の文字列の出現頻度を求め，その高い順に並べて表示せよ．確認にはcut, uniq, sortコマンドを用いよ．"
   ]
  },
  {
   "cell_type": "code",
   "execution_count": 80,
   "metadata": {},
   "outputs": [
    {
     "name": "stdout",
     "output_type": "stream",
     "text": [
      "James      118\n",
      "William    111\n",
      "John       108\n",
      "Robert     108\n",
      "Mary        92\n",
      "          ... \n",
      "Rachel       1\n",
      "Lucas        1\n",
      "Scott        1\n",
      "Kelly        1\n",
      "Crystal      1\n",
      "Name: 0, Length: 136, dtype: int64\n"
     ]
    }
   ],
   "source": [
    "print(df[0].value_counts())"
   ]
  },
  {
   "cell_type": "code",
   "execution_count": null,
   "metadata": {},
   "outputs": [],
   "source": []
  }
 ],
 "metadata": {
  "kernelspec": {
   "display_name": "Python 3",
   "language": "python",
   "name": "python3"
  },
  "language_info": {
   "codemirror_mode": {
    "name": "ipython",
    "version": 3
   },
   "file_extension": ".py",
   "mimetype": "text/x-python",
   "name": "python",
   "nbconvert_exporter": "python",
   "pygments_lexer": "ipython3",
   "version": "3.8.5"
  }
 },
 "nbformat": 4,
 "nbformat_minor": 4
}
